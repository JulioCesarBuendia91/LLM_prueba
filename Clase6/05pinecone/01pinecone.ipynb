{
 "cells": [
  {
   "cell_type": "code",
   "execution_count": 3,
   "metadata": {},
   "outputs": [],
   "source": [
    "from pinecone import Pinecone, ServerlessSpec\n",
    "import os, getpass\n",
    "import tiktoken"
   ]
  },
  {
   "cell_type": "code",
   "execution_count": 4,
   "metadata": {},
   "outputs": [],
   "source": [
    "api_key = \"dcd9fb64-a64e-4195-b63c-478fbae6635a\"\n",
    "os.environ[\"PINECONE_API_KEY\"] = api_key"
   ]
  },
  {
   "cell_type": "code",
   "execution_count": 15,
   "metadata": {},
   "outputs": [],
   "source": [
    "os.environ[\"OPENAI_API_KEY\"] = \"sk-proj-0XT3GGvdjgAQUVMOQrhBT3BlbkFJEvyFh5Mjlm8NbuNB507I\"\n",
    "#sk-proj-Y9DaHbKZTzsLLzhhlIp9T3BlbkFJNKa2u8LqkmwcKS5JB4mO"
   ]
  },
  {
   "cell_type": "code",
   "execution_count": 7,
   "metadata": {},
   "outputs": [],
   "source": [
    "pinecone_client = Pinecone()\n",
    "\n",
    "# Crea un índice usando el cliente de Pinecone\n",
    "pinecone_client.create_index(\n",
    "    name=\"quickstarts\",\n",
    "    dimension=8, # Reemplaza con las dimensiones de tu modelo\n",
    "    metric=\"euclidean\", # Reemplaza con la métrica de tu modelo\n",
    "    spec=ServerlessSpec(\n",
    "        cloud=\"aws\",\n",
    "        region=\"us-east-1\"\n",
    "    )\n",
    ")"
   ]
  },
  {
   "cell_type": "markdown",
   "metadata": {},
   "source": [
    "## Creando un index (tabla) en Pinecone"
   ]
  },
  {
   "cell_type": "code",
   "execution_count": 9,
   "metadata": {},
   "outputs": [
    {
     "name": "stdout",
     "output_type": "stream",
     "text": [
      "Index knowledge-base-stable-diffusions creado con éxito en Pinecone\n"
     ]
    }
   ],
   "source": [
    "from pinecone import Pinecone, ServerlessSpec\n",
    "import os\n",
    "\n",
    "# Configura la clave API de Pinecone en la variable de entorno\n",
    "api_key = \"dcd9fb64-a64e-4195-b63c-478fbae6635a\"\n",
    "os.environ[\"PINECONE_API_KEY\"] = api_key\n",
    "\n",
    "# Nombre del índice que deseas crear\n",
    "index_name = \"knowledge-base-stable-diffusions\"\n",
    "\n",
    "# Dimension del modelo, ajustado para Stable Diffusion\n",
    "dimension = 1536\n",
    "\n",
    "# Especificaciones del servidor donde se alojará el índice\n",
    "spec = ServerlessSpec(\n",
    "    cloud=\"aws\",  # Ajusta según la nube que estés utilizando, \"aws\", \"gcp\", etc.\n",
    "    region=\"us-east-1\"  # Asegúrate de que la región esté disponible en tu plan\n",
    ")\n",
    "\n",
    "# Inicializa el cliente de Pinecone\n",
    "pinecone_client = Pinecone()\n",
    "\n",
    "# Crea un índice en Pinecone\n",
    "pinecone_client.create_index(\n",
    "    name=index_name, \n",
    "    dimension=dimension,\n",
    "    spec=spec  # Incluye las especificaciones del servidor\n",
    ")\n",
    "\n",
    "print(\"Index \" + index_name + \" creado con éxito en Pinecone\")\n"
   ]
  },
  {
   "cell_type": "markdown",
   "metadata": {},
   "source": [
    "## Estadísticas de un index"
   ]
  },
  {
   "cell_type": "code",
   "execution_count": 10,
   "metadata": {},
   "outputs": [
    {
     "name": "stdout",
     "output_type": "stream",
     "text": [
      "{'dimension': 1536,\n",
      " 'index_fullness': 0.0,\n",
      " 'namespaces': {},\n",
      " 'total_vector_count': 0}\n"
     ]
    }
   ],
   "source": [
    "index = pinecone_client.Index(index_name)\n",
    "print(index.describe_index_stats())"
   ]
  },
  {
   "cell_type": "markdown",
   "metadata": {},
   "source": [
    "## Lista de index en Pinecone"
   ]
  },
  {
   "cell_type": "code",
   "execution_count": 11,
   "metadata": {},
   "outputs": [
    {
     "data": {
      "text/plain": [
       "{'indexes': [{'dimension': 1536,\n",
       "              'host': 'knowledge-base-stable-diffusion-344da37.svc.aped-4627-b74a.pinecone.io',\n",
       "              'metric': 'cosine',\n",
       "              'name': 'knowledge-base-stable-diffusion',\n",
       "              'spec': {'serverless': {'cloud': 'aws', 'region': 'us-east-1'}},\n",
       "              'status': {'ready': True, 'state': 'Ready'}},\n",
       "             {'dimension': 1536,\n",
       "              'host': 'knowledge-base-s3-344da37.svc.aped-4627-b74a.pinecone.io',\n",
       "              'metric': 'euclidean',\n",
       "              'name': 'knowledge-base-s3',\n",
       "              'spec': {'serverless': {'cloud': 'aws', 'region': 'us-east-1'}},\n",
       "              'status': {'ready': True, 'state': 'Ready'}},\n",
       "             {'dimension': 1536,\n",
       "              'host': 'knowledge-base-stable-diffusions-344da37.svc.aped-4627-b74a.pinecone.io',\n",
       "              'metric': 'cosine',\n",
       "              'name': 'knowledge-base-stable-diffusions',\n",
       "              'spec': {'serverless': {'cloud': 'aws', 'region': 'us-east-1'}},\n",
       "              'status': {'ready': True, 'state': 'Ready'}},\n",
       "             {'dimension': 8,\n",
       "              'host': 'quickstarts-344da37.svc.aped-4627-b74a.pinecone.io',\n",
       "              'metric': 'euclidean',\n",
       "              'name': 'quickstarts',\n",
       "              'spec': {'serverless': {'cloud': 'aws', 'region': 'us-east-1'}},\n",
       "              'status': {'ready': True, 'state': 'Ready'}},\n",
       "             {'dimension': 8,\n",
       "              'host': 'miprimerindice-344da37.svc.aped-4627-b74a.pinecone.io',\n",
       "              'metric': 'euclidean',\n",
       "              'name': 'miprimerindice',\n",
       "              'spec': {'serverless': {'cloud': 'aws', 'region': 'us-east-1'}},\n",
       "              'status': {'ready': True, 'state': 'Ready'}},\n",
       "             {'dimension': 8,\n",
       "              'host': 'quickstart-344da37.svc.aped-4627-b74a.pinecone.io',\n",
       "              'metric': 'euclidean',\n",
       "              'name': 'quickstart',\n",
       "              'spec': {'serverless': {'cloud': 'aws', 'region': 'us-east-1'}},\n",
       "              'status': {'ready': True, 'state': 'Ready'}}]}"
      ]
     },
     "execution_count": 11,
     "metadata": {},
     "output_type": "execute_result"
    }
   ],
   "source": [
    "pinecone_client.list_indexes()"
   ]
  },
  {
   "cell_type": "markdown",
   "metadata": {},
   "source": [
    "## Cargando datos (pdf) y generando sus fragmentos"
   ]
  },
  {
   "cell_type": "code",
   "execution_count": 12,
   "metadata": {},
   "outputs": [],
   "source": [
    "from langchain.document_loaders import PyPDFLoader\n",
    "from langchain.text_splitter import CharacterTextSplitter\n",
    "\n",
    "loader = PyPDFLoader(\"pdf/ebook-stable-difussion-guia.pdf\")\n",
    "data = loader.load()\n",
    "\n",
    "text_splitter = CharacterTextSplitter.from_tiktoken_encoder(\n",
    "    chunk_size = 400, \n",
    "    chunk_overlap = 20\n",
    ")\n",
    "\n",
    "docs = text_splitter.split_documents(documents = data)"
   ]
  },
  {
   "cell_type": "code",
   "execution_count": 13,
   "metadata": {},
   "outputs": [
    {
     "data": {
      "text/plain": [
       "(23,\n",
       " [Document(page_content='ChatGPT + Stable DiffusionCómo crear Contenido con \\nInteligencia Artificial', metadata={'source': 'pdf/ebook-stable-difussion-guia.pdf', 'page': 0}),\n",
       "  Document(page_content='Índice\\nIntroducción\\nCómo puede ayudarte la Inteligencia Artiﬁcial a crear contenido\\nQué es Stable Diffusion\\nQué es ChatGPT03\\n03\\n04\\n05\\nStable Diffusion 06\\nGuía ChatGPT\\nCómo puedes usar ChatGPT\\nEjemplos prácticos de ChatGPT\\nAlternativas a ChatGPT19\\n20\\n22\\n23Cómo puedes utilizar Stable Diffusion\\nIntroducción a Dream Studio\\nIntroducción a la versión NKMD de escritorio\\nIntroducción a la versión Automatic 1111\\nCómo crear imágenes con Stable Diffusion\\nCómo escribir buenos prompts\\nOtras herramientas basadas en Stable Diffusion07\\n09\\n10\\n11\\n15\\n16\\n18\\nSobre el autor:\\nSoy Xavier Mitjana, especialista en creación de contenido para \\ncampañas de comunicación y marketing. También soy un apasionado de la divulgación y la innovación tecnológica. En mi canal de YouTube puedes encontrar contenido que encaja con mi pasión y profesión: tutoriales de nuevas herramientas para crear contenido, marca personal y mucho sobre Inteligencia Artiﬁcial y Stable Diffusion. ¡No dudes en suscribirte!\\n¡SUSCRÍBETE!', metadata={'source': 'pdf/ebook-stable-difussion-guia.pdf', 'page': 1}),\n",
       "  Document(page_content='01\\nCómo puede \\nayudarte la Inteligencia Artiﬁcial \\na crear contenido\\nLa inteligencia artiﬁcial puede ayudarte a crear contenido \\nproporcionando texto e imágenes a medida de tus \\nindicaciones, ahorrándote tiempo y esfuerzo para que puedas \\ncentrarte en la producción de contenido de calidad. Por \\nejemplo, la inteligencia artiﬁcial puede proporcionar textos \\nalrededor de una palabra clave, puede plantear la mejor \\nmanera de estructurar un texos para mantener a los lectores \\ninteresados, e incluso puede crear piezas de contenido por sí \\nmisma.\\nEn esta guía te explicaré como crear contenido a partir de 2 \\nherramientas: Stable Diffusion y ChatGPT (GPT3).\\nStable Diffusion es un modelo Open Source de generación de \\nimágenes con Inteligencia Artiﬁcial.\\nPor otro lado ChatGPT, es una herramienta basada en GPT 3.5, \\nque permite crear textos a partir de establecer un diálogo con \\nla Inteligencia Artiﬁcial.\\nGuia Inteligencia Artiﬁcial - 03', metadata={'source': 'pdf/ebook-stable-difussion-guia.pdf', 'page': 2}),\n",
       "  Document(page_content='02\\nQué es \\nStable Diffusion\\nStable Diffusion es un modelo de aprendizaje automático \\ndesarrollado por Stability AI para generar imágenes digitales \\nde alta calidad a partir de descripciones en lenguaje natural. \\nEl modelo se puede usar para diferentes tareas, como la \\ngeneración de traducciones de imagen a imagen guiadas por \\nmensajes de texto y la mejora de imágenes.\\nA diferencia de modelos de la competencia como DALL-E, \\nStable Diffusion es de código abierto1  y no limita \\nartiﬁcialmente las imágenes que produce.2\\nY este es el principal motivo por el que está adquiriendo gran \\npopularidad. Ya que permite crear imágenes sin límites y crear \\nincluso nuestros propios modelos para crear imágenes que se \\najusten mejor a nuestros casos de uso.\\nPor ejemplo imágenes con nuestra cara.\\nY todo de un modo tan sencillo como introducir una indicación \\nen texto plano y esperar unos segundos a que la inteligencia \\nartiﬁcial la interprete en forma de imagen.Imagenes mias para \\nentrenar el modeloImagen generada con \\nStable Diffusion para que \\nme paresca a Indiana Jones\\nGuia Inteligencia Artiﬁcial - 04', metadata={'source': 'pdf/ebook-stable-difussion-guia.pdf', 'page': 3}),\n",
       "  Document(page_content='03\\nQué es \\nChatGPT\\nChatGPT es una aplicación web que permite establecer una \\nconversación con el modelo GPT3.5 de Open AI. ¿Y en qué \\nconsiste esta tecnología?\\nPor otro lado, GPT3 (Generative Pre-Trained Transformer 3), \\nes una red neuronal profundamente entrenada que puede \\nayudar a los usuarios a generar contenido de calidad sin \\nnecesidad de pasar tiempo editando. Esta red tiene un \\nenfoque único para producir contenido que sea útil, relevante \\ny auténtico. Esta red está entrenada para entender el contexto \\nde las palabras y proporcionar contenido acorde a él. En otras \\npalabras, puede proporcionar textos coherentes y de calidad a \\npartir de una indicación de texto.\\nGuia Inteligencia Artiﬁcial - 05', metadata={'source': 'pdf/ebook-stable-difussion-guia.pdf', 'page': 4}),\n",
       "  Document(page_content='04\\nCómo puedes \\nutilizar Stable Diffusion\\nStable Diffusion al ser una herramienta de código abierto, \\npuede usarse de diferentes maneras. Aunque básicamente \\nhay dos maneras básicas de acceder a ella.\\nLa versión online\\nEsta es la manera más inmediata de acceder a la \\nherramienta. Solo tienes que registrarte en la siguiente \\npágina web:\\nY automáticamente tendrás acceso a la suite de \\nDreamStudio y podrás empezar a crear imágenes.\\nEste servicio no es gratuito, pero con el registro dispones en \\ntu cuenta de 200 créditos para crear tus imágenes con \\nInteligencia Artiﬁcial.https:/ /beta.dreamstudio.ai/\\nGuia Inteligencia Artiﬁcial - 07', metadata={'source': 'pdf/ebook-stable-difussion-guia.pdf', 'page': 6}),\n",
       "  Document(page_content='Versión Escritorio\\nTambién existe la posibilidad de ejecutarla en tu ordenador \\nwindows. Para ello existen diferentes versiones, pero la \\nmayoría comparten la misma limitación:\\nRequieren de una máquina con una GPU Nvidia potente \\ncompatible con CUDA.\\nSi dispones de una máquina con estas características, \\nentonces la mejor opción es instalar Stable Diffusion en una \\nde sus dos versiones más populares:\\nAutomatic 1111\\nUna versión más recomendable si tienes conocimientos \\ninformáticos, ya que permite incorporar de modo rápido \\nnuevas funcionalidades, pero deberás estar familiarizado \\ncon entornos de producción y desarrollo para instalarla y \\nconﬁgurarla de modo ágil.NMKD Stable Diffusion GUI\\nUna versión más sencilla de instalar y utilizar, con una mejor \\nusabilidad, pero menos versátil a la hora de experimentar \\ncon las últimas novedades que surgen con Stable Diffusion.\\nGuia Inteligencia Artiﬁcial - 08', metadata={'source': 'pdf/ebook-stable-difussion-guia.pdf', 'page': 7}),\n",
       "  Document(page_content='05\\nIntroducción \\na Dream Studio\\nUna vez llegados a este punto, seguramente querrás probar la herramienta. Si te has decidido a probarla en su versión online, te recomiendo que veas este vídeo:\\nClic sobre la imagen para ver el vídeo\\nGuia Inteligencia Artiﬁcial - 09', metadata={'source': 'pdf/ebook-stable-difussion-guia.pdf', 'page': 8}),\n",
       "  Document(page_content='06\\nIntroducción \\na la versión NKMD de escritorio\\nSi por el otro lado, preﬁeres instalarla en tu ordenador. Te recomiendo que veas este tutorial para instalar NMKD Stable Diffusion GUI.\\nRecuerda que sus requisitos mínimos son:\\nGPU: Nvidia GPU con 4 GB VRAM, Maxwell Architecture \\n(2014) o más reciente\\nRAM: 8 GB RAM Espacio en disco: 12 GB (se recomiendan otras 2 GB \\npara archivos temporales)\\nClic sobre la imagen para ver el vídeo\\nGuia Inteligencia Artiﬁcial - 10', metadata={'source': 'pdf/ebook-stable-difussion-guia.pdf', 'page': 9}),\n",
       "  Document(page_content='07\\nIntroducción \\na la versión Automatic 1111\\nFinalmente, te presentamos la versión más completa Automatic1111.\\nEn el siguiente tutorial, encontrarás la información para \\ninstalarla en tu ordenador. Es un proceso un poco más complejo que con la versión NKMD, pero merece la pena.\\nClic sobre la imagen para ver el vídeo\\nGuia Inteligencia Artiﬁcial - 11', metadata={'source': 'pdf/ebook-stable-difussion-guia.pdf', 'page': 10}),\n",
       "  Document(page_content='Clic sobre la imagen para ver el vídeo\\nClic sobre la imagen para ver el vídeoSi tu ordenador no es lo suﬁcientemente potente para \\nejecutar Stable Diffusion, te recomiendo que pruebes estas 2 opciones:\\nGuia Inteligencia Artiﬁcial - 12', metadata={'source': 'pdf/ebook-stable-difussion-guia.pdf', 'page': 11}),\n",
       "  Document(page_content='Clic sobre la imagen para ver el vídeoSi por otro lado estás pensando en adquirir un ordenador \\nnuevo para ejecutar esta tecnología, en este vídeo encontrarás una review del que he montado yo:\\nTarjeta graﬁca: https:/ /amzn.to/3EjUGCe\\nProcesador: https:/ /amzn.to/3ORZCSgPlaca base: https:/ /amzn.to/3UmeGsrRam: https:/ /amzn.to/3ueEnkfSDD: https:/ /amzn.to/3VqqATBFuente Alimentación: https:/ /amzn.to/3Vq7lt8Disipador de CPU: https:/ /amzn.to/3H2KH62Caja PC: https:/ /amzn.to/3OQI48Y\\x00Componentes del PC\\nGuia Inteligencia Artiﬁcial - 13', metadata={'source': 'pdf/ebook-stable-difussion-guia.pdf', 'page': 12}),\n",
       "  Document(page_content='Finalmente, en el siguiente vídeo encontrarás algunos \\ntrucos y consejos interesantes para utilizar mejor Automatic1111.\\nClic sobre la imagen para ver el vídeo\\nGuia Inteligencia Artiﬁcial - 14', metadata={'source': 'pdf/ebook-stable-difussion-guia.pdf', 'page': 13}),\n",
       "  Document(page_content='08\\nCómo crear \\nimágenes con Stable Diffusion\\nLlega el momento de crear buenas imágenes con Stable Diffusion, de modo que a continuación voy a explicarte cómo hacerlo.\\nPara empezar, echa un ojo a este tutorial. En él te explico como \\ngenerar imágenes con pocos créditos y mejorarlas rápidamente. Trabajarás con el concepto básico de seed y pasos.\\nClic sobre la imagen para ver el vídeo\\nGuia Inteligencia Artiﬁcial - 15', metadata={'source': 'pdf/ebook-stable-difussion-guia.pdf', 'page': 14}),\n",
       "  Document(page_content='09\\nCómo escribir \\nbuenos prompts\\nEl siguiente paso, consiste en escribir buenos prompts. En el siguiente vídeo te doy 6 consejos para escribir indicaciones consistentes que te ayuden a conseguir resultados predecibles con Stable Diffusion.\\nPara crear buenas indicaciones más rápido, puedes utilizar las siguientes herramientas gratuitas:\\nLexica.art\\npromptomania.comprompthero.comKrea.aiClic sobre la imagen para ver el vídeo\\nGuia Inteligencia Artiﬁcial - 16', metadata={'source': 'pdf/ebook-stable-difussion-guia.pdf', 'page': 15}),\n",
       "  Document(page_content='Clic sobre la imagen para ver el vídeoEn el siguiente tutorial puedes comprobar como utilizo \\nalguno de estos recursos:\\nGuia Inteligencia Artiﬁcial - 17', metadata={'source': 'pdf/ebook-stable-difussion-guia.pdf', 'page': 16}),\n",
       "  Document(page_content='10\\nOtras \\nherramientas basadas en Stable Diffusion\\nPara terminar esta sección de Stable Diffusion, te recomiendo algunas herramientas que utilizan modelos de Stable Diffusion para generar imágenes y que tienen capas gratuitas que te permitirán generar imágenes de un modo fácil y rápido:\\nGuia Inteligencia Artiﬁcial - 18', metadata={'source': 'pdf/ebook-stable-difussion-guia.pdf', 'page': 17}),\n",
       "  Document(page_content='Guia\\nchatGPT', metadata={'source': 'pdf/ebook-stable-difussion-guia.pdf', 'page': 18}),\n",
       "  Document(page_content='01\\nCómo puedes\\nusar ChatGPT\\nChatGPT es una aplicación web de acceso gratuito. Solo debes registrarte a través del siguiente enlace y podrás empezar a utilizarla.\\nSi tienes dudas, en el siguiente tutorial explico de modo \\ndetallado los primeros pasos para acceder a ChatGPT y qué permite hacer: Generación de texto y código.\\nClic sobre la imagen para ver el vídeo\\nGuia Inteligencia Artiﬁcial - 20', metadata={'source': 'pdf/ebook-stable-difussion-guia.pdf', 'page': 19}),\n",
       "  Document(page_content='Clic sobre la imagen para ver el vídeo\\nClic sobre la imagen para ver el vídeoUna vez hayas completado el primer tutorial, te recomiendas \\nque veas el siguiente vídeo, donde te explico algunos trucos para crear mejores indicaciones y donde te descubro algunas funciones adicionales de ChatGPT muy interesantes\\nFinalmente, si lo que quieres es que ChatGPT te guíe a la hora \\nde obtener la información que necesitas te recomiendo que utilices la siguiente indicación:\\nGuia Inteligencia Artiﬁcial - 21', metadata={'source': 'pdf/ebook-stable-difussion-guia.pdf', 'page': 20}),\n",
       "  Document(page_content='Clic sobre la imagen para ver el vídeo02\\nEjemplos \\nprácticos de ChatGPT\\nAhora que ya sabes cómo utilizar esta herramienta, unos ejemplos de uso concreto pueden servirte para conseguir ideas. Atento a estos 2 tutoriales:\\nClic sobre la imagen para ver el vídeo\\nGuia Inteligencia Artiﬁcial - 22', metadata={'source': 'pdf/ebook-stable-difussion-guia.pdf', 'page': 21}),\n",
       "  Document(page_content='Clic sobre la imagen para ver el vídeo03\\nAlternativas\\na ChatGPT\\nY para terminar esta guía, teniendo en cuenta que ChatGPT funciona al límite de su capacidad. Te planteo algunas alternativas interesantes a ChatGPT.\\nENLACES:\\nWordHero: https:/ /bit.ly/oferta-wordhero\\nKatteb: https:/ /appsumo.8odi.net/vn5jm3ChatSonic: https:/ /bit.ly/Chat_SonicJasperChat: https:/ /www.jasper.ai/chatPlayGround Open AI: https:/ /beta.openai.com/playgroundYou: https:/ /you.com/Perplexity: https:/ /www.perplexity.ai/CharacterAI: https:/ /beta.character.ai/\\nGuia Inteligencia Artiﬁcial - 23', metadata={'source': 'pdf/ebook-stable-difussion-guia.pdf', 'page': 22}),\n",
       "  Document(page_content='¡Mantendremos esta guía \\nactualizada!\\nTodas las nuevas versiones \\nllegarán a tu correo.\\nSi esta guía te ha parecido interesante.\\n¡No dudes en suscribirte a mi canal!\\n¡SUSCRÍBETE!\\nxavier_mitjana \\n@xavier_mitjana\\nAlgunos de los enlaces de esta guía son aﬁliados, recibo una comisión muy \\npequeña sin costo adicional para ti. Esto me ayuda a hacer el canal sostenible y \\nseguir ofreciendo contenido de calidad.', metadata={'source': 'pdf/ebook-stable-difussion-guia.pdf', 'page': 23})])"
      ]
     },
     "execution_count": 13,
     "metadata": {},
     "output_type": "execute_result"
    }
   ],
   "source": [
    "len(docs),docs"
   ]
  },
  {
   "cell_type": "markdown",
   "metadata": {},
   "source": [
    "## Cargando embeddings a Pinecone"
   ]
  },
  {
   "cell_type": "code",
   "execution_count": 16,
   "metadata": {},
   "outputs": [],
   "source": [
    "from langchain.vectorstores import Pinecone\n",
    "from langchain.embeddings.openai import OpenAIEmbeddings\n",
    "\n",
    "embeddings = OpenAIEmbeddings()\n",
    "docsearch = Pinecone.from_documents(docs, embeddings, index_name = index_name)"
   ]
  },
  {
   "cell_type": "markdown",
   "metadata": {},
   "source": [
    "Nos vamos a nuestra cuenta de Pinecone, para validar que se hayan insertados los embeddings"
   ]
  },
  {
   "cell_type": "code",
   "execution_count": 17,
   "metadata": {},
   "outputs": [
    {
     "name": "stdout",
     "output_type": "stream",
     "text": [
      "{'dimension': 1536,\n",
      " 'index_fullness': 0.0,\n",
      " 'namespaces': {},\n",
      " 'total_vector_count': 0}\n"
     ]
    }
   ],
   "source": [
    "index = pinecone_client.Index(index_name)\n",
    "print(index.describe_index_stats())"
   ]
  },
  {
   "cell_type": "markdown",
   "metadata": {},
   "source": [
    "## Consultando datos del index"
   ]
  },
  {
   "cell_type": "markdown",
   "metadata": {},
   "source": [
    "![Imagen](https://raw.githubusercontent.com/UKPLab/sentence-transformers/master/docs/img/SemanticSearch.png)"
   ]
  },
  {
   "cell_type": "markdown",
   "metadata": {},
   "source": [
    "## Muestra los 5 embeddings más relevantes con la pregunta"
   ]
  },
  {
   "cell_type": "code",
   "execution_count": 18,
   "metadata": {},
   "outputs": [
    {
     "data": {
      "text/plain": [
       "[Document(page_content='02\\nQué es \\nStable Diffusion\\nStable Diffusion es un modelo de aprendizaje automático \\ndesarrollado por Stability AI para generar imágenes digitales \\nde alta calidad a partir de descripciones en lenguaje natural. \\nEl modelo se puede usar para diferentes tareas, como la \\ngeneración de traducciones de imagen a imagen guiadas por \\nmensajes de texto y la mejora de imágenes.\\nA diferencia de modelos de la competencia como DALL-E, \\nStable Diffusion es de código abierto1  y no limita \\nartiﬁcialmente las imágenes que produce.2\\nY este es el principal motivo por el que está adquiriendo gran \\npopularidad. Ya que permite crear imágenes sin límites y crear \\nincluso nuestros propios modelos para crear imágenes que se \\najusten mejor a nuestros casos de uso.\\nPor ejemplo imágenes con nuestra cara.\\nY todo de un modo tan sencillo como introducir una indicación \\nen texto plano y esperar unos segundos a que la inteligencia \\nartiﬁcial la interprete en forma de imagen.Imagenes mias para \\nentrenar el modeloImagen generada con \\nStable Diffusion para que \\nme paresca a Indiana Jones\\nGuia Inteligencia Artiﬁcial - 04', metadata={'page': 3.0, 'source': 'pdf/ebook-stable-difussion-guia.pdf'}),\n",
       " Document(page_content='Índice\\nIntroducción\\nCómo puede ayudarte la Inteligencia Artiﬁcial a crear contenido\\nQué es Stable Diffusion\\nQué es ChatGPT03\\n03\\n04\\n05\\nStable Diffusion 06\\nGuía ChatGPT\\nCómo puedes usar ChatGPT\\nEjemplos prácticos de ChatGPT\\nAlternativas a ChatGPT19\\n20\\n22\\n23Cómo puedes utilizar Stable Diffusion\\nIntroducción a Dream Studio\\nIntroducción a la versión NKMD de escritorio\\nIntroducción a la versión Automatic 1111\\nCómo crear imágenes con Stable Diffusion\\nCómo escribir buenos prompts\\nOtras herramientas basadas en Stable Diffusion07\\n09\\n10\\n11\\n15\\n16\\n18\\nSobre el autor:\\nSoy Xavier Mitjana, especialista en creación de contenido para \\ncampañas de comunicación y marketing. También soy un apasionado de la divulgación y la innovación tecnológica. En mi canal de YouTube puedes encontrar contenido que encaja con mi pasión y profesión: tutoriales de nuevas herramientas para crear contenido, marca personal y mucho sobre Inteligencia Artiﬁcial y Stable Diffusion. ¡No dudes en suscribirte!\\n¡SUSCRÍBETE!', metadata={'page': 1.0, 'source': 'pdf/ebook-stable-difussion-guia.pdf'}),\n",
       " Document(page_content='04\\nCómo puedes \\nutilizar Stable Diffusion\\nStable Diffusion al ser una herramienta de código abierto, \\npuede usarse de diferentes maneras. Aunque básicamente \\nhay dos maneras básicas de acceder a ella.\\nLa versión online\\nEsta es la manera más inmediata de acceder a la \\nherramienta. Solo tienes que registrarte en la siguiente \\npágina web:\\nY automáticamente tendrás acceso a la suite de \\nDreamStudio y podrás empezar a crear imágenes.\\nEste servicio no es gratuito, pero con el registro dispones en \\ntu cuenta de 200 créditos para crear tus imágenes con \\nInteligencia Artiﬁcial.https:/ /beta.dreamstudio.ai/\\nGuia Inteligencia Artiﬁcial - 07', metadata={'page': 6.0, 'source': 'pdf/ebook-stable-difussion-guia.pdf'}),\n",
       " Document(page_content='10\\nOtras \\nherramientas basadas en Stable Diffusion\\nPara terminar esta sección de Stable Diffusion, te recomiendo algunas herramientas que utilizan modelos de Stable Diffusion para generar imágenes y que tienen capas gratuitas que te permitirán generar imágenes de un modo fácil y rápido:\\nGuia Inteligencia Artiﬁcial - 18', metadata={'page': 17.0, 'source': 'pdf/ebook-stable-difussion-guia.pdf'}),\n",
       " Document(page_content='08\\nCómo crear \\nimágenes con Stable Diffusion\\nLlega el momento de crear buenas imágenes con Stable Diffusion, de modo que a continuación voy a explicarte cómo hacerlo.\\nPara empezar, echa un ojo a este tutorial. En él te explico como \\ngenerar imágenes con pocos créditos y mejorarlas rápidamente. Trabajarás con el concepto básico de seed y pasos.\\nClic sobre la imagen para ver el vídeo\\nGuia Inteligencia Artiﬁcial - 15', metadata={'page': 14.0, 'source': 'pdf/ebook-stable-difussion-guia.pdf'})]"
      ]
     },
     "execution_count": 18,
     "metadata": {},
     "output_type": "execute_result"
    }
   ],
   "source": [
    "query = \"¿qué es stable diffussion?\"\n",
    "docs = docsearch.similarity_search(query, k = 5) \n",
    "docs"
   ]
  },
  {
   "cell_type": "code",
   "execution_count": 19,
   "metadata": {},
   "outputs": [
    {
     "data": {
      "text/plain": [
       "[Document(page_content='01\\nCómo puede \\nayudarte la Inteligencia Artiﬁcial \\na crear contenido\\nLa inteligencia artiﬁcial puede ayudarte a crear contenido \\nproporcionando texto e imágenes a medida de tus \\nindicaciones, ahorrándote tiempo y esfuerzo para que puedas \\ncentrarte en la producción de contenido de calidad. Por \\nejemplo, la inteligencia artiﬁcial puede proporcionar textos \\nalrededor de una palabra clave, puede plantear la mejor \\nmanera de estructurar un texos para mantener a los lectores \\ninteresados, e incluso puede crear piezas de contenido por sí \\nmisma.\\nEn esta guía te explicaré como crear contenido a partir de 2 \\nherramientas: Stable Diffusion y ChatGPT (GPT3).\\nStable Diffusion es un modelo Open Source de generación de \\nimágenes con Inteligencia Artiﬁcial.\\nPor otro lado ChatGPT, es una herramienta basada en GPT 3.5, \\nque permite crear textos a partir de establecer un diálogo con \\nla Inteligencia Artiﬁcial.\\nGuia Inteligencia Artiﬁcial - 03', metadata={'page': 2.0, 'source': 'pdf/ebook-stable-difussion-guia.pdf'}),\n",
       " Document(page_content='Finalmente, en el siguiente vídeo encontrarás algunos \\ntrucos y consejos interesantes para utilizar mejor Automatic1111.\\nClic sobre la imagen para ver el vídeo\\nGuia Inteligencia Artiﬁcial - 14', metadata={'page': 13.0, 'source': 'pdf/ebook-stable-difussion-guia.pdf'}),\n",
       " Document(page_content='Clic sobre la imagen para ver el vídeoEn el siguiente tutorial puedes comprobar como utilizo \\nalguno de estos recursos:\\nGuia Inteligencia Artiﬁcial - 17', metadata={'page': 16.0, 'source': 'pdf/ebook-stable-difussion-guia.pdf'}),\n",
       " Document(page_content='05\\nIntroducción \\na Dream Studio\\nUna vez llegados a este punto, seguramente querrás probar la herramienta. Si te has decidido a probarla en su versión online, te recomiendo que veas este vídeo:\\nClic sobre la imagen para ver el vídeo\\nGuia Inteligencia Artiﬁcial - 09', metadata={'page': 8.0, 'source': 'pdf/ebook-stable-difussion-guia.pdf'}),\n",
       " Document(page_content='Índice\\nIntroducción\\nCómo puede ayudarte la Inteligencia Artiﬁcial a crear contenido\\nQué es Stable Diffusion\\nQué es ChatGPT03\\n03\\n04\\n05\\nStable Diffusion 06\\nGuía ChatGPT\\nCómo puedes usar ChatGPT\\nEjemplos prácticos de ChatGPT\\nAlternativas a ChatGPT19\\n20\\n22\\n23Cómo puedes utilizar Stable Diffusion\\nIntroducción a Dream Studio\\nIntroducción a la versión NKMD de escritorio\\nIntroducción a la versión Automatic 1111\\nCómo crear imágenes con Stable Diffusion\\nCómo escribir buenos prompts\\nOtras herramientas basadas en Stable Diffusion07\\n09\\n10\\n11\\n15\\n16\\n18\\nSobre el autor:\\nSoy Xavier Mitjana, especialista en creación de contenido para \\ncampañas de comunicación y marketing. También soy un apasionado de la divulgación y la innovación tecnológica. En mi canal de YouTube puedes encontrar contenido que encaja con mi pasión y profesión: tutoriales de nuevas herramientas para crear contenido, marca personal y mucho sobre Inteligencia Artiﬁcial y Stable Diffusion. ¡No dudes en suscribirte!\\n¡SUSCRÍBETE!', metadata={'page': 1.0, 'source': 'pdf/ebook-stable-difussion-guia.pdf'})]"
      ]
     },
     "execution_count": 19,
     "metadata": {},
     "output_type": "execute_result"
    }
   ],
   "source": [
    "query = \"¿en qué me puede ayudar la inteligencia artificial?\"\n",
    "docs = docsearch.similarity_search(query, k = 5)\n",
    "docs"
   ]
  },
  {
   "cell_type": "code",
   "execution_count": 20,
   "metadata": {},
   "outputs": [
    {
     "name": "stdout",
     "output_type": "stream",
     "text": [
      "01\n",
      "Cómo puede \n",
      "ayudarte la Inteligencia Artiﬁcial \n",
      "a crear contenido\n",
      "La inteligencia artiﬁcial puede ayudarte a crear contenido \n",
      "proporcionando texto e imágenes a medida de tus \n",
      "indicaciones, ahorrándote tiempo y esfuerzo para que puedas \n",
      "centrarte en la producción de contenido de calidad. Por \n",
      "ejemplo, la inteligencia artiﬁcial puede proporcionar textos \n",
      "alrededor de una palabra clave, puede plantear la mejor \n",
      "manera de estructurar un texos para mantener a los lectores \n",
      "interesados, e incluso puede crear piezas de contenido por sí \n",
      "misma.\n",
      "En esta guía te explicaré como crear contenido a partir de 2 \n",
      "herramientas: Stable Diffusion y ChatGPT (GPT3).\n",
      "Stable Diffusion es un modelo Open Source de generación de \n",
      "imágenes con Inteligencia Artiﬁcial.\n",
      "Por otro lado ChatGPT, es una herramienta basada en GPT 3.5, \n",
      "que permite crear textos a partir de establecer un diálogo con \n",
      "la Inteligencia Artiﬁcial.\n",
      "Guia Inteligencia Artiﬁcial - 03\n"
     ]
    }
   ],
   "source": [
    "print(docs[0].page_content)"
   ]
  },
  {
   "cell_type": "code",
   "execution_count": 21,
   "metadata": {},
   "outputs": [
    {
     "data": {
      "text/plain": [
       "[(Document(page_content='01\\nCómo puede \\nayudarte la Inteligencia Artiﬁcial \\na crear contenido\\nLa inteligencia artiﬁcial puede ayudarte a crear contenido \\nproporcionando texto e imágenes a medida de tus \\nindicaciones, ahorrándote tiempo y esfuerzo para que puedas \\ncentrarte en la producción de contenido de calidad. Por \\nejemplo, la inteligencia artiﬁcial puede proporcionar textos \\nalrededor de una palabra clave, puede plantear la mejor \\nmanera de estructurar un texos para mantener a los lectores \\ninteresados, e incluso puede crear piezas de contenido por sí \\nmisma.\\nEn esta guía te explicaré como crear contenido a partir de 2 \\nherramientas: Stable Diffusion y ChatGPT (GPT3).\\nStable Diffusion es un modelo Open Source de generación de \\nimágenes con Inteligencia Artiﬁcial.\\nPor otro lado ChatGPT, es una herramienta basada en GPT 3.5, \\nque permite crear textos a partir de establecer un diálogo con \\nla Inteligencia Artiﬁcial.\\nGuia Inteligencia Artiﬁcial - 03', metadata={'page': 2.0, 'source': 'pdf/ebook-stable-difussion-guia.pdf'}),\n",
       "  0.854655564),\n",
       " (Document(page_content='Finalmente, en el siguiente vídeo encontrarás algunos \\ntrucos y consejos interesantes para utilizar mejor Automatic1111.\\nClic sobre la imagen para ver el vídeo\\nGuia Inteligencia Artiﬁcial - 14', metadata={'page': 13.0, 'source': 'pdf/ebook-stable-difussion-guia.pdf'}),\n",
       "  0.838564813),\n",
       " (Document(page_content='Clic sobre la imagen para ver el vídeoEn el siguiente tutorial puedes comprobar como utilizo \\nalguno de estos recursos:\\nGuia Inteligencia Artiﬁcial - 17', metadata={'page': 16.0, 'source': 'pdf/ebook-stable-difussion-guia.pdf'}),\n",
       "  0.831963301)]"
      ]
     },
     "execution_count": 21,
     "metadata": {},
     "output_type": "execute_result"
    }
   ],
   "source": [
    "docs = docsearch.similarity_search_with_score(query, k = 3)\n",
    "docs"
   ]
  },
  {
   "cell_type": "markdown",
   "metadata": {},
   "source": [
    "## Eliminando index"
   ]
  },
  {
   "cell_type": "code",
   "execution_count": 22,
   "metadata": {},
   "outputs": [],
   "source": [
    "pinecone_client.delete_index(index_name)"
   ]
  },
  {
   "cell_type": "code",
   "execution_count": null,
   "metadata": {},
   "outputs": [],
   "source": []
  },
  {
   "cell_type": "markdown",
   "metadata": {},
   "source": []
  }
 ],
 "metadata": {
  "kernelspec": {
   "display_name": "Python 3",
   "language": "python",
   "name": "python3"
  },
  "language_info": {
   "codemirror_mode": {
    "name": "ipython",
    "version": 3
   },
   "file_extension": ".py",
   "mimetype": "text/x-python",
   "name": "python",
   "nbconvert_exporter": "python",
   "pygments_lexer": "ipython3",
   "version": "3.10.13"
  }
 },
 "nbformat": 4,
 "nbformat_minor": 2
}
