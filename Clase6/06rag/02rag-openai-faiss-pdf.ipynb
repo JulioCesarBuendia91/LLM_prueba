{
 "cells": [
  {
   "cell_type": "markdown",
   "metadata": {},
   "source": [
    "# RAG : Usando FAISS (Facebook AI Similarity Search = búsqueda de similitudes con IA de Facebook) como base de conocimiento"
   ]
  },
  {
   "cell_type": "code",
   "execution_count": 1,
   "metadata": {},
   "outputs": [],
   "source": [
    "import os, getpass"
   ]
  },
  {
   "cell_type": "markdown",
   "metadata": {},
   "source": [
    "Faiss es una biblioteca para la búsqueda eficiente de similitudes y agrupación de vectores. Contiene algoritmos que buscan en conjuntos de vectores de cualquier tamaño, hasta aquellos que posiblemente no quepan en la RAM. También contiene código de soporte para evaluación y ajuste de parámetros.\n",
    "\n",
    "Faiss está escrito en C++ con contenedores completos para Python. Algunos de los algoritmos más útiles se implementan en la GPU. Está desarrollado por Facebook AI Research ."
   ]
  },
  {
   "cell_type": "markdown",
   "metadata": {},
   "source": [
    "## Generando fragmentos de un archivo PDF"
   ]
  },
  {
   "cell_type": "markdown",
   "metadata": {},
   "source": [
    "![Imagen](https://www.muycomputer.com/wp-content/uploads/2022/08/LOTR.jpg)"
   ]
  },
  {
   "cell_type": "code",
   "execution_count": 3,
   "metadata": {},
   "outputs": [
    {
     "ename": "KeyboardInterrupt",
     "evalue": "",
     "output_type": "error",
     "traceback": [
      "\u001b[0;31m---------------------------------------------------------------------------\u001b[0m",
      "\u001b[0;31mKeyboardInterrupt\u001b[0m                         Traceback (most recent call last)",
      "Cell \u001b[0;32mIn[3], line 5\u001b[0m\n\u001b[1;32m      2\u001b[0m \u001b[38;5;28;01mfrom\u001b[39;00m \u001b[38;5;21;01mlangchain\u001b[39;00m\u001b[38;5;21;01m.\u001b[39;00m\u001b[38;5;21;01mtext_splitter\u001b[39;00m \u001b[38;5;28;01mimport\u001b[39;00m CharacterTextSplitter\n\u001b[1;32m      4\u001b[0m loader \u001b[38;5;241m=\u001b[39m PyPDFLoader(\u001b[38;5;124m\"\u001b[39m\u001b[38;5;124mpdf/ElSeñordelosAnillos.pdf\u001b[39m\u001b[38;5;124m\"\u001b[39m) \u001b[38;5;66;03m#1753 páginas\u001b[39;00m\n\u001b[0;32m----> 5\u001b[0m data \u001b[38;5;241m=\u001b[39m \u001b[43mloader\u001b[49m\u001b[38;5;241;43m.\u001b[39;49m\u001b[43mload\u001b[49m\u001b[43m(\u001b[49m\u001b[43m)\u001b[49m\n\u001b[1;32m      7\u001b[0m \u001b[38;5;66;03m#Genera varios fragmentos de 400 tokens\u001b[39;00m\n\u001b[1;32m      8\u001b[0m text_splitter \u001b[38;5;241m=\u001b[39m CharacterTextSplitter\u001b[38;5;241m.\u001b[39mfrom_tiktoken_encoder(\n\u001b[1;32m      9\u001b[0m     chunk_size \u001b[38;5;241m=\u001b[39m \u001b[38;5;241m400\u001b[39m, \n\u001b[1;32m     10\u001b[0m     chunk_overlap \u001b[38;5;241m=\u001b[39m \u001b[38;5;241m20\u001b[39m\n\u001b[1;32m     11\u001b[0m )\n",
      "File \u001b[0;32m~/.python/current/lib/python3.10/site-packages/langchain_core/document_loaders/base.py:29\u001b[0m, in \u001b[0;36mBaseLoader.load\u001b[0;34m(self)\u001b[0m\n\u001b[1;32m     27\u001b[0m \u001b[38;5;28;01mdef\u001b[39;00m \u001b[38;5;21mload\u001b[39m(\u001b[38;5;28mself\u001b[39m) \u001b[38;5;241m-\u001b[39m\u001b[38;5;241m>\u001b[39m List[Document]:\n\u001b[1;32m     28\u001b[0m \u001b[38;5;250m    \u001b[39m\u001b[38;5;124;03m\"\"\"Load data into Document objects.\"\"\"\u001b[39;00m\n\u001b[0;32m---> 29\u001b[0m     \u001b[38;5;28;01mreturn\u001b[39;00m \u001b[38;5;28;43mlist\u001b[39;49m\u001b[43m(\u001b[49m\u001b[38;5;28;43mself\u001b[39;49m\u001b[38;5;241;43m.\u001b[39;49m\u001b[43mlazy_load\u001b[49m\u001b[43m(\u001b[49m\u001b[43m)\u001b[49m\u001b[43m)\u001b[49m\n",
      "File \u001b[0;32m~/.python/current/lib/python3.10/site-packages/langchain_community/document_loaders/pdf.py:193\u001b[0m, in \u001b[0;36mPyPDFLoader.lazy_load\u001b[0;34m(self)\u001b[0m\n\u001b[1;32m    191\u001b[0m \u001b[38;5;28;01melse\u001b[39;00m:\n\u001b[1;32m    192\u001b[0m     blob \u001b[38;5;241m=\u001b[39m Blob\u001b[38;5;241m.\u001b[39mfrom_path(\u001b[38;5;28mself\u001b[39m\u001b[38;5;241m.\u001b[39mfile_path)  \u001b[38;5;66;03m# type: ignore[attr-defined]\u001b[39;00m\n\u001b[0;32m--> 193\u001b[0m \u001b[38;5;28;01myield from\u001b[39;00m \u001b[38;5;28;43mself\u001b[39;49m\u001b[38;5;241;43m.\u001b[39;49m\u001b[43mparser\u001b[49m\u001b[38;5;241;43m.\u001b[39;49m\u001b[43mparse\u001b[49m\u001b[43m(\u001b[49m\u001b[43mblob\u001b[49m\u001b[43m)\u001b[49m\n",
      "File \u001b[0;32m~/.python/current/lib/python3.10/site-packages/langchain_core/document_loaders/base.py:125\u001b[0m, in \u001b[0;36mBaseBlobParser.parse\u001b[0;34m(self, blob)\u001b[0m\n\u001b[1;32m    110\u001b[0m \u001b[38;5;28;01mdef\u001b[39;00m \u001b[38;5;21mparse\u001b[39m(\u001b[38;5;28mself\u001b[39m, blob: Blob) \u001b[38;5;241m-\u001b[39m\u001b[38;5;241m>\u001b[39m List[Document]:\n\u001b[1;32m    111\u001b[0m \u001b[38;5;250m    \u001b[39m\u001b[38;5;124;03m\"\"\"Eagerly parse the blob into a document or documents.\u001b[39;00m\n\u001b[1;32m    112\u001b[0m \n\u001b[1;32m    113\u001b[0m \u001b[38;5;124;03m    This is a convenience method for interactive development environment.\u001b[39;00m\n\u001b[0;32m   (...)\u001b[0m\n\u001b[1;32m    123\u001b[0m \u001b[38;5;124;03m        List of documents\u001b[39;00m\n\u001b[1;32m    124\u001b[0m \u001b[38;5;124;03m    \"\"\"\u001b[39;00m\n\u001b[0;32m--> 125\u001b[0m     \u001b[38;5;28;01mreturn\u001b[39;00m \u001b[38;5;28;43mlist\u001b[39;49m\u001b[43m(\u001b[49m\u001b[38;5;28;43mself\u001b[39;49m\u001b[38;5;241;43m.\u001b[39;49m\u001b[43mlazy_parse\u001b[49m\u001b[43m(\u001b[49m\u001b[43mblob\u001b[49m\u001b[43m)\u001b[49m\u001b[43m)\u001b[49m\n",
      "File \u001b[0;32m~/.python/current/lib/python3.10/site-packages/langchain_community/document_loaders/parsers/pdf.py:96\u001b[0m, in \u001b[0;36mPyPDFParser.lazy_parse\u001b[0;34m(self, blob)\u001b[0m\n\u001b[1;32m     94\u001b[0m \u001b[38;5;28;01mwith\u001b[39;00m blob\u001b[38;5;241m.\u001b[39mas_bytes_io() \u001b[38;5;28;01mas\u001b[39;00m pdf_file_obj:  \u001b[38;5;66;03m# type: ignore[attr-defined]\u001b[39;00m\n\u001b[1;32m     95\u001b[0m     pdf_reader \u001b[38;5;241m=\u001b[39m pypdf\u001b[38;5;241m.\u001b[39mPdfReader(pdf_file_obj, password\u001b[38;5;241m=\u001b[39m\u001b[38;5;28mself\u001b[39m\u001b[38;5;241m.\u001b[39mpassword)\n\u001b[0;32m---> 96\u001b[0m     \u001b[38;5;28;01myield from\u001b[39;00m [\n\u001b[1;32m     97\u001b[0m         Document(\n\u001b[1;32m     98\u001b[0m             page_content\u001b[38;5;241m=\u001b[39mpage\u001b[38;5;241m.\u001b[39mextract_text()\n\u001b[1;32m     99\u001b[0m             \u001b[38;5;241m+\u001b[39m \u001b[38;5;28mself\u001b[39m\u001b[38;5;241m.\u001b[39m_extract_images_from_page(page),\n\u001b[1;32m    100\u001b[0m             metadata\u001b[38;5;241m=\u001b[39m{\u001b[38;5;124m\"\u001b[39m\u001b[38;5;124msource\u001b[39m\u001b[38;5;124m\"\u001b[39m: blob\u001b[38;5;241m.\u001b[39msource, \u001b[38;5;124m\"\u001b[39m\u001b[38;5;124mpage\u001b[39m\u001b[38;5;124m\"\u001b[39m: page_number},  \u001b[38;5;66;03m# type: ignore[attr-defined]\u001b[39;00m\n\u001b[1;32m    101\u001b[0m         )\n\u001b[1;32m    102\u001b[0m         \u001b[38;5;28;01mfor\u001b[39;00m page_number, page \u001b[38;5;129;01min\u001b[39;00m \u001b[38;5;28menumerate\u001b[39m(pdf_reader\u001b[38;5;241m.\u001b[39mpages)\n\u001b[1;32m    103\u001b[0m     ]\n",
      "File \u001b[0;32m~/.python/current/lib/python3.10/site-packages/langchain_community/document_loaders/parsers/pdf.py:98\u001b[0m, in \u001b[0;36m<listcomp>\u001b[0;34m(.0)\u001b[0m\n\u001b[1;32m     94\u001b[0m \u001b[38;5;28;01mwith\u001b[39;00m blob\u001b[38;5;241m.\u001b[39mas_bytes_io() \u001b[38;5;28;01mas\u001b[39;00m pdf_file_obj:  \u001b[38;5;66;03m# type: ignore[attr-defined]\u001b[39;00m\n\u001b[1;32m     95\u001b[0m     pdf_reader \u001b[38;5;241m=\u001b[39m pypdf\u001b[38;5;241m.\u001b[39mPdfReader(pdf_file_obj, password\u001b[38;5;241m=\u001b[39m\u001b[38;5;28mself\u001b[39m\u001b[38;5;241m.\u001b[39mpassword)\n\u001b[1;32m     96\u001b[0m     \u001b[38;5;28;01myield from\u001b[39;00m [\n\u001b[1;32m     97\u001b[0m         Document(\n\u001b[0;32m---> 98\u001b[0m             page_content\u001b[38;5;241m=\u001b[39m\u001b[43mpage\u001b[49m\u001b[38;5;241;43m.\u001b[39;49m\u001b[43mextract_text\u001b[49m\u001b[43m(\u001b[49m\u001b[43m)\u001b[49m\n\u001b[1;32m     99\u001b[0m             \u001b[38;5;241m+\u001b[39m \u001b[38;5;28mself\u001b[39m\u001b[38;5;241m.\u001b[39m_extract_images_from_page(page),\n\u001b[1;32m    100\u001b[0m             metadata\u001b[38;5;241m=\u001b[39m{\u001b[38;5;124m\"\u001b[39m\u001b[38;5;124msource\u001b[39m\u001b[38;5;124m\"\u001b[39m: blob\u001b[38;5;241m.\u001b[39msource, \u001b[38;5;124m\"\u001b[39m\u001b[38;5;124mpage\u001b[39m\u001b[38;5;124m\"\u001b[39m: page_number},  \u001b[38;5;66;03m# type: ignore[attr-defined]\u001b[39;00m\n\u001b[1;32m    101\u001b[0m         )\n\u001b[1;32m    102\u001b[0m         \u001b[38;5;28;01mfor\u001b[39;00m page_number, page \u001b[38;5;129;01min\u001b[39;00m \u001b[38;5;28menumerate\u001b[39m(pdf_reader\u001b[38;5;241m.\u001b[39mpages)\n\u001b[1;32m    103\u001b[0m     ]\n",
      "File \u001b[0;32m~/.python/current/lib/python3.10/site-packages/pypdf/_page.py:2083\u001b[0m, in \u001b[0;36mPageObject.extract_text\u001b[0;34m(self, orientations, space_width, visitor_operand_before, visitor_operand_after, visitor_text, extraction_mode, *args, **kwargs)\u001b[0m\n\u001b[1;32m   2080\u001b[0m \u001b[38;5;28;01mif\u001b[39;00m \u001b[38;5;28misinstance\u001b[39m(orientations, \u001b[38;5;28mint\u001b[39m):\n\u001b[1;32m   2081\u001b[0m     orientations \u001b[38;5;241m=\u001b[39m (orientations,)\n\u001b[0;32m-> 2083\u001b[0m \u001b[38;5;28;01mreturn\u001b[39;00m \u001b[38;5;28;43mself\u001b[39;49m\u001b[38;5;241;43m.\u001b[39;49m\u001b[43m_extract_text\u001b[49m\u001b[43m(\u001b[49m\n\u001b[1;32m   2084\u001b[0m \u001b[43m    \u001b[49m\u001b[38;5;28;43mself\u001b[39;49m\u001b[43m,\u001b[49m\n\u001b[1;32m   2085\u001b[0m \u001b[43m    \u001b[49m\u001b[38;5;28;43mself\u001b[39;49m\u001b[38;5;241;43m.\u001b[39;49m\u001b[43mpdf\u001b[49m\u001b[43m,\u001b[49m\n\u001b[1;32m   2086\u001b[0m \u001b[43m    \u001b[49m\u001b[43morientations\u001b[49m\u001b[43m,\u001b[49m\n\u001b[1;32m   2087\u001b[0m \u001b[43m    \u001b[49m\u001b[43mspace_width\u001b[49m\u001b[43m,\u001b[49m\n\u001b[1;32m   2088\u001b[0m \u001b[43m    \u001b[49m\u001b[43mPG\u001b[49m\u001b[38;5;241;43m.\u001b[39;49m\u001b[43mCONTENTS\u001b[49m\u001b[43m,\u001b[49m\n\u001b[1;32m   2089\u001b[0m \u001b[43m    \u001b[49m\u001b[43mvisitor_operand_before\u001b[49m\u001b[43m,\u001b[49m\n\u001b[1;32m   2090\u001b[0m \u001b[43m    \u001b[49m\u001b[43mvisitor_operand_after\u001b[49m\u001b[43m,\u001b[49m\n\u001b[1;32m   2091\u001b[0m \u001b[43m    \u001b[49m\u001b[43mvisitor_text\u001b[49m\u001b[43m,\u001b[49m\n\u001b[1;32m   2092\u001b[0m \u001b[43m\u001b[49m\u001b[43m)\u001b[49m\n",
      "File \u001b[0;32m~/.python/current/lib/python3.10/site-packages/pypdf/_page.py:1877\u001b[0m, in \u001b[0;36mPageObject._extract_text\u001b[0;34m(self, obj, pdf, orientations, space_width, content_key, visitor_operand_before, visitor_operand_after, visitor_text)\u001b[0m\n\u001b[1;32m   1874\u001b[0m         memo_tm \u001b[38;5;241m=\u001b[39m tm_matrix\u001b[38;5;241m.\u001b[39mcopy()\n\u001b[1;32m   1876\u001b[0m \u001b[38;5;28;01melse\u001b[39;00m:\n\u001b[0;32m-> 1877\u001b[0m     \u001b[43mprocess_operation\u001b[49m\u001b[43m(\u001b[49m\u001b[43moperator\u001b[49m\u001b[43m,\u001b[49m\u001b[43m \u001b[49m\u001b[43moperands\u001b[49m\u001b[43m)\u001b[49m\n\u001b[1;32m   1878\u001b[0m \u001b[38;5;28;01mif\u001b[39;00m visitor_operand_after \u001b[38;5;129;01mis\u001b[39;00m \u001b[38;5;129;01mnot\u001b[39;00m \u001b[38;5;28;01mNone\u001b[39;00m:\n\u001b[1;32m   1879\u001b[0m     visitor_operand_after(operator, operands, cm_matrix, tm_matrix)\n",
      "File \u001b[0;32m~/.python/current/lib/python3.10/site-packages/pypdf/_page.py:1786\u001b[0m, in \u001b[0;36mPageObject._extract_text.<locals>.process_operation\u001b[0;34m(operator, operands)\u001b[0m\n\u001b[1;32m   1784\u001b[0m \u001b[38;5;28;01mif\u001b[39;00m check_crlf_space:\n\u001b[1;32m   1785\u001b[0m     \u001b[38;5;28;01mtry\u001b[39;00m:\n\u001b[0;32m-> 1786\u001b[0m         text, output, cm_prev, tm_prev \u001b[38;5;241m=\u001b[39m \u001b[43mcrlf_space_check\u001b[49m\u001b[43m(\u001b[49m\n\u001b[1;32m   1787\u001b[0m \u001b[43m            \u001b[49m\u001b[43mtext\u001b[49m\u001b[43m,\u001b[49m\n\u001b[1;32m   1788\u001b[0m \u001b[43m            \u001b[49m\u001b[43m(\u001b[49m\u001b[43mcm_prev\u001b[49m\u001b[43m,\u001b[49m\u001b[43m \u001b[49m\u001b[43mtm_prev\u001b[49m\u001b[43m)\u001b[49m\u001b[43m,\u001b[49m\n\u001b[1;32m   1789\u001b[0m \u001b[43m            \u001b[49m\u001b[43m(\u001b[49m\u001b[43mcm_matrix\u001b[49m\u001b[43m,\u001b[49m\u001b[43m \u001b[49m\u001b[43mtm_matrix\u001b[49m\u001b[43m)\u001b[49m\u001b[43m,\u001b[49m\n\u001b[1;32m   1790\u001b[0m \u001b[43m            \u001b[49m\u001b[43m(\u001b[49m\u001b[43mmemo_cm\u001b[49m\u001b[43m,\u001b[49m\u001b[43m \u001b[49m\u001b[43mmemo_tm\u001b[49m\u001b[43m)\u001b[49m\u001b[43m,\u001b[49m\n\u001b[1;32m   1791\u001b[0m \u001b[43m            \u001b[49m\u001b[43mcmap\u001b[49m\u001b[43m,\u001b[49m\n\u001b[1;32m   1792\u001b[0m \u001b[43m            \u001b[49m\u001b[43morientations\u001b[49m\u001b[43m,\u001b[49m\n\u001b[1;32m   1793\u001b[0m \u001b[43m            \u001b[49m\u001b[43moutput\u001b[49m\u001b[43m,\u001b[49m\n\u001b[1;32m   1794\u001b[0m \u001b[43m            \u001b[49m\u001b[43mfont_size\u001b[49m\u001b[43m,\u001b[49m\n\u001b[1;32m   1795\u001b[0m \u001b[43m            \u001b[49m\u001b[43mvisitor_text\u001b[49m\u001b[43m,\u001b[49m\n\u001b[1;32m   1796\u001b[0m \u001b[43m            \u001b[49m\u001b[43mcurrent_spacewidth\u001b[49m\u001b[43m(\u001b[49m\u001b[43m)\u001b[49m\u001b[43m,\u001b[49m\n\u001b[1;32m   1797\u001b[0m \u001b[43m        \u001b[49m\u001b[43m)\u001b[49m\n\u001b[1;32m   1798\u001b[0m         \u001b[38;5;28;01mif\u001b[39;00m text \u001b[38;5;241m==\u001b[39m \u001b[38;5;124m\"\u001b[39m\u001b[38;5;124m\"\u001b[39m:\n\u001b[1;32m   1799\u001b[0m             memo_cm \u001b[38;5;241m=\u001b[39m cm_matrix\u001b[38;5;241m.\u001b[39mcopy()\n",
      "File \u001b[0;32m~/.python/current/lib/python3.10/site-packages/pypdf/_text_extraction/__init__.py:110\u001b[0m, in \u001b[0;36mcrlf_space_check\u001b[0;34m(text, cmtm_prev, cmtm_matrix, memo_cmtm, cmap, orientations, output, font_size, visitor_text, spacewidth)\u001b[0m\n\u001b[1;32m    107\u001b[0m memo_cm \u001b[38;5;241m=\u001b[39m memo_cmtm[\u001b[38;5;241m0\u001b[39m]\n\u001b[1;32m    108\u001b[0m memo_tm \u001b[38;5;241m=\u001b[39m memo_cmtm[\u001b[38;5;241m1\u001b[39m]\n\u001b[0;32m--> 110\u001b[0m m_prev \u001b[38;5;241m=\u001b[39m \u001b[43mmult\u001b[49m\u001b[43m(\u001b[49m\u001b[43mtm_prev\u001b[49m\u001b[43m,\u001b[49m\u001b[43m \u001b[49m\u001b[43mcm_prev\u001b[49m\u001b[43m)\u001b[49m\n\u001b[1;32m    111\u001b[0m m \u001b[38;5;241m=\u001b[39m mult(tm_matrix, cm_matrix)\n\u001b[1;32m    112\u001b[0m orientation \u001b[38;5;241m=\u001b[39m orient(m)\n",
      "\u001b[0;31mKeyboardInterrupt\u001b[0m: "
     ]
    }
   ],
   "source": [
    "from langchain.document_loaders import PyPDFLoader\n",
    "from langchain.text_splitter import CharacterTextSplitter\n",
    "\n",
    "loader = PyPDFLoader(\"pdf/ElSeñordelosAnillos.pdf\") #1753 páginas\n",
    "data = loader.load()\n",
    "\n",
    "#Genera varios fragmentos de 400 tokens\n",
    "text_splitter = CharacterTextSplitter.from_tiktoken_encoder(\n",
    "    chunk_size = 400, \n",
    "    chunk_overlap = 20\n",
    ")\n",
    "\n",
    "docs = text_splitter.split_documents(documents = data)"
   ]
  },
  {
   "cell_type": "code",
   "execution_count": null,
   "metadata": {},
   "outputs": [
    {
     "data": {
      "text/plain": [
       "1628"
      ]
     },
     "execution_count": 3,
     "metadata": {},
     "output_type": "execute_result"
    }
   ],
   "source": [
    "len(docs)"
   ]
  },
  {
   "cell_type": "code",
   "execution_count": null,
   "metadata": {},
   "outputs": [
    {
     "data": {
      "text/plain": [
       "Document(page_content='El Señor de los Anillos es una novela, obra cumbre del escritor John\\nRonald Reuel Tolkien, ambientada en un mundo fantástico llamado la\\nTierra Media hacia el final de su Tercera Edad. El título hace\\nreferencia a Sauron, el Señor Oscuro de Mordor, principal villano de\\nla historia, creador del Anillo Único que utilizó para controlar el poder\\nde los demás Anillos. El Señor de los Anillos constituye la\\ncontinuación de un libro anterior de Tolkien, El Hobbit, que cuenta la\\nhistoria de cómo el Anillo del Poder pasa a las manos de Bilbo\\nBolsón, el tío de Frodo Bolsón. En un nivel más profundo, constituye\\nla continuación de otro libro llamado El Silmarillion, que habla de la\\ncreación de la Tierra Media y de todas las criaturas que en ella\\nhabitan, así como del primer Señor Oscuro, maestro de Sauron, y de\\nlas luchas por los Silmarils.\\nEl Señor de los Anillos narra las aventuras de un grupo de seres:\\n(elfos, hobbits, enanos, humanos), que forman la Comunidad del\\nAnillo en su intento por destruir el Anillo Único, forjado por Sauron. Es\\nla historia del héroe del pueblo llano, de aquella persona que aún\\nsabiendo que su destino puede ser fatal, lucha por cumplirlo, pues de\\nél depende la continuidad de su mundo.', metadata={'source': 'pdf/ElSeñordelosAnillos.pdf', 'page': 1})"
      ]
     },
     "execution_count": 4,
     "metadata": {},
     "output_type": "execute_result"
    }
   ],
   "source": [
    "docs[0]"
   ]
  },
  {
   "cell_type": "markdown",
   "metadata": {},
   "source": [
    "## Cargando datos a FAISS"
   ]
  },
  {
   "cell_type": "code",
   "execution_count": 5,
   "metadata": {},
   "outputs": [
    {
     "name": "stderr",
     "output_type": "stream",
     "text": [
      "/home/codespace/.python/current/lib/python3.10/site-packages/tqdm/auto.py:21: TqdmWarning: IProgress not found. Please update jupyter and ipywidgets. See https://ipywidgets.readthedocs.io/en/stable/user_install.html\n",
      "  from .autonotebook import tqdm as notebook_tqdm\n"
     ]
    }
   ],
   "source": [
    "from langchain.vectorstores import FAISS\n",
    "from langchain.embeddings.sentence_transformer import SentenceTransformerEmbeddings\n",
    "embedding_function = SentenceTransformerEmbeddings(model_name = \"all-MiniLM-L6-v2\")\n",
    "faiss_index = FAISS.from_documents(docs, embedding_function)\n",
    "\n",
    "#from langchain.embeddings.openai import OpenAIEmbeddings\n",
    "#embedding_function = OpenAIEmbeddings\n",
    "#faiss_index = FAISS.from_documents(docs, embedding_function)"
   ]
  },
  {
   "cell_type": "code",
   "execution_count": 6,
   "metadata": {},
   "outputs": [
    {
     "name": "stdout",
     "output_type": "stream",
     "text": [
      "33: La Comunidad del Anillo\n",
      "Primera parte de\n",
      "El Señor de los Anillos\n",
      "583: Las Dos Torres\n",
      "Segunda parte de\n",
      "El Señor de los Anillos\n",
      "79: —Este es el Dueño de los Anillos, el Anillo Único que los gobierna.\n",
      "Este es el Anillo Único que el Señor Oscuro perdió en tiempos remotos,\n",
      "junto con parte de su pode r. Lo desea terriblemente, pero es necesario que no\n",
      "lo consiga.\n",
      "Frodo se sentó en silencio, inmóvil: el miedo parecía extender una man\n"
     ]
    }
   ],
   "source": [
    "docs = faiss_index.similarity_search(\"¿a quién le pertenece el anillo?\", k = 3)\n",
    "for doc in docs:\n",
    "    print(str(doc.metadata[\"page\"]) + \":\", doc.page_content[:300])"
   ]
  },
  {
   "cell_type": "code",
   "execution_count": 7,
   "metadata": {},
   "outputs": [],
   "source": [
    "os.environ[\"OPENAI_API_KEY\"] = getpass.getpass(\"Ingresa tu API Key de OpenAI : \")"
   ]
  },
  {
   "cell_type": "code",
   "execution_count": 10,
   "metadata": {},
   "outputs": [],
   "source": [
    "from langchain.chat_models import ChatOpenAI\n",
    "from langchain.chains import RetrievalQA\n",
    "from langchain.prompts import PromptTemplate\n",
    "\n",
    "template = \"\"\"Responda a la pregunta basada en el siguiente contexto.\n",
    "Si no puedes responder a la pregunta, usa la siguiente respuesta \"No lo sé disculpa, puedes buscar la información en internet.\"\n",
    "\n",
    "Contexto: \n",
    "{context}\n",
    "Pregunta: {question}\n",
    "Respuesta: \n",
    "\"\"\"\n",
    "\n",
    "prompt = PromptTemplate(\n",
    "    template = template, input_variables = [\"context\", \"question\"]\n",
    ")\n",
    "\n",
    "llm = ChatOpenAI(\n",
    "    model_name = 'gpt-3.5-turbo',\n",
    "    temperature = 0.0\n",
    ")\n",
    "\n",
    "qa = RetrievalQA.from_chain_type(\n",
    "    llm = llm, \n",
    "    chain_type = \"stuff\", \n",
    "    retriever = faiss_index.as_retriever(), #Por defecto recupera los 4 documentos más relevantes as_retriever(search_kwargs={'k': 3 })\n",
    "    chain_type_kwargs = {\"prompt\": prompt, \"verbose\": True},\n",
    "    verbose = True\n",
    ")"
   ]
  },
  {
   "cell_type": "code",
   "execution_count": 11,
   "metadata": {},
   "outputs": [
    {
     "name": "stdout",
     "output_type": "stream",
     "text": [
      "\n",
      "\n",
      "\u001b[1m> Entering new RetrievalQA chain...\u001b[0m\n",
      "\n",
      "\n",
      "\u001b[1m> Entering new StuffDocumentsChain chain...\u001b[0m\n",
      "\n",
      "\n",
      "\u001b[1m> Entering new LLMChain chain...\u001b[0m\n",
      "Prompt after formatting:\n",
      "\u001b[32;1m\u001b[1;3mResponda a la pregunta basada en el siguiente contexto.\n",
      "Si no puedes responder a la pregunta, usa la siguiente respuesta \"No lo sé disculpa, puedes buscar la información en internet.\"\n",
      "\n",
      "Contexto: \n",
      "que Frodo y Sam habían esperado. Sam lo alcanzó antes de que pudiera dar\n",
      "dos pasos más. Frodo, qu e lo seguía, le aferró la pierna y lo hizo caer.\n",
      "—Tu cuerda podr á sernos útil otra vez, Sam —di jo. Sam sacó la cuerda.\n",
      "—¿Y a dónde iba usted por estas duras tierras frías, señor Gollum? —\n",
      "gruñó—. Nos preguntamos, sí, nos preguntamos. En busca de algunos de tus\n",
      "amigos orcos, apuesto. Repugnante criatura traicionera. Alrededor de tu\n",
      "gaznate tendría que ir esta cuerda y con un nudo bi en apretado.\n",
      "Gollum yacía inmóvil y no intentó ninguna otra jugarreta. No le contestó\n",
      "a Sam, pero le echó una mirada fugaz y venenosa.\n",
      "—Sólo nos hace falta algo con que sujetarlo —dijo Frodo—. Es\n",
      "necesario que camine, de modo que no tendría sentido atarle las piernas... o\n",
      "los brazos, pues por lo que veo los utiliza indistintamente. Átale esta punta al\n",
      "tobillo y no sueltes el otro extremo.\n",
      "Permaneció junto a Gollum, vigilándolo, mientras Sam hacía el nudo. El\n",
      "resultado desconcertó a los dos hobbits. Gollum se puso a gritar: un grito\n",
      "agudo, desgarrador, horrible al oído. Se retorcía tratando de alcanzar el\n",
      "tobillo con la boca y morder la cuerda, aullando siempre.\n",
      "Frodo se convenció al fin de que Gollum sufría de verdad; pero no podía\n",
      "ser a causa del nudo. Lo examinó y comprobó que no estaba demasiado\n",
      "apretado; al contrario. Sam había sido más compasivo que sus propias\n",
      "palabras.\n",
      "—¿Qué te pasa? —dijo—. Si intentas escapar, tendremos que atarte;\n",
      "pero no queremos hacerte daño.\n",
      "—Nos hace daño, nos hace daño —siseó Gollum—. ¡Hiela, muerde! ¡La\n",
      "hicieron los elfos, malditos sean! ¡Hobbits sucios y crueles! Por eso tratamos\n",
      "de escapar, claro, tesoro. Adivinamos que eran hobbits crueles. Hobbits que\n",
      "visitan a los elfos, elfos feroces de ojos brillantes. ¡Quitad la cuerda! ¡Nos\n",
      "hace daño!\n",
      "—No, no te la sacaré —dijo Frodo— momento para reflexionar—... a\n",
      "menos que haya una promesa de tu parte en la que yo confíe.\n",
      "—Juraremos hacer lo que él quiere, sí, sssí —dijo Gollum, siempre\n",
      "retorciéndose y aferrándose el tobillo—. N os hace daño.\n",
      "—¿Jurarías? —di jo Frodo.\n",
      "\n",
      "cuento? Eso es lo que me gusta, me hace reír. Y sin Sam, Frodo no habría\n",
      "llegado ni a la mitad del camino ¿verdad, pa pá?»\n",
      "—Vamos, señor Frodo di jo Sam no se burle usted. Yo hablaba en serio.\n",
      "—Yo también —dijo Frodo—, y sigo hablando en serio. Estamos yendo\n",
      "demasiado de prisa. Tú y yo, Sam, nos encontramos todavía atascados en los\n",
      "peores pasajes de la historia, y es demasiado probable que algunos digan al\n",
      "llegar a este punto: «Cierra el libro, papá, no tenemos ganas de seguir\n",
      "leyendo.»\n",
      "—Quizá dijo Sam, pero no es eso lo que yo diría. Las cosas hechas y\n",
      "terminadas y transformadas en grandes historias son diferentes. Si hasta\n",
      "Gollum podría ser bueno en una historia, mejor que ahora a nuestro lado, al\n",
      "menos. Y a él también le gustaba escucharlas en otros días, por lo que nos ha\n",
      "dicho. Me gustaría saber si se considera el héroe o el villano...\n",
      "»¡Gollum! llamó—. ¿Te gustaría ser el héroe?... Bueno, ¿dónde se habrá\n",
      "metido ot ra vez?\n",
      "No había rastros de él a la entrada del refugio ni en las sombras vecinas.\n",
      "Había rechazado la comida de los hobbits, aunque aceptara como de\n",
      "costumbre un sorbo de agua; y luego, al parecer, se había enroscado para\n",
      "dormir. Suponían que uno al menos de los propós itos de Gollum en la larga\n",
      "ausencia de la víspera había sido salir de caza, en busca de algún alimento\n",
      "de su gusto; y ahora era evidente que había vuelto a escabullirse a hurtadillas\n",
      "mientras ellos conversaban. Pero ¿con qué fin esta vez?\n",
      "—No me gustan estas escapadas furtivas y sin aviso —dijo Sam—. Y\n",
      "menos ahora. No puede andar buscando comida allá arriba, a menos que\n",
      "quiera morder un pedazo de roca. ¡Si aquí ni el musgo crece!\n",
      "—Es inútil preocuparse por él ahora —dijo Frodo—. Sin él no\n",
      "habríamos llegado tan lejos, ni siquiera a la vista del paso, y tendremos que\n",
      "amoldarnos a sus caprichos. Si es falso, es falso.\n",
      "—De todos modos preferiría no perderlo de vista. Y con mayor razón, si\n",
      "es falso. ¿Recuerda usted que nunca quiso decirnos si este paso estaba\n",
      "vigilado, o no? Y ahora vemos allí una torre... y quizás esté abandonada y\n",
      "quizá no. ¿Cree usted que habrá ido a buscarlos? ¿A los orcos o lo que sean?\n",
      "\n",
      "suceda.\n",
      "Sam se quedó callado. La expresión del rostro de Frodo era suficiente\n",
      "para él; sabía que todo cuanto pudiera decirle sería inútil. Al fin y al cabo,\n",
      "él nunca había puesto ninguna esperanza en el éxito de la empresa; pero era\n",
      "un hobbit vehemente y temerario y no necesitaba esperanzas, mientras\n",
      "pudiera retrasar la desesperanza. Ahora habían llegado al amargo final. Pero\n",
      "él no había abandonado a su señor ni un solo instante; para eso había venido,\n",
      "y no pensaba abandonarlo ahora. Frodo no iría solo a Mordor. Sam iría con\n",
      "él... y en todo c aso, al menos se verían por fin libres de Gollum.\n",
      "Gollum, sin embargo, no tenía ningún interés en que se libraran de él, al\n",
      "menos por el momento. Se arrodilló a los pies de Frodo, retorciéndose las\n",
      "manos y lloriqueando.\n",
      "—¡No por este camino, mi amo! — suplicó—. Hay otro camino. Oh sí,\n",
      "de verdad, hay otro. Otro camino más oscuro, más difícil de encontrar, más\n",
      "secreto. Pero Sméagol lo conoce. ¡Deja que Sméagol te lo muestre!\n",
      "—¡Otro camino! —dijo Frodo en tono dubitativo, escrutando el rostro de\n",
      "Gollum.\n",
      "—¡Sssí! Sssí, ¡de verdad! Había otro camino. Sméagol lo descubrió.\n",
      "Vayamos a ver si todavía está.\n",
      "—No dijiste nada de ese camino, antes.\n",
      "—No. El amo no preguntó. El amo no dijo lo que quería hacer. No le\n",
      "dice nada al pobre Sméagol. Dice: Sméagol, llévame hasta la Puerta... y\n",
      "luego ¡adiós! Sméagol puede marcharse y ser bueno. Pero ahora le dice:\n",
      "pienso entrar en Mordor por este camino. Y entonces Sméagol tiene mucho\n",
      "miedo. No desea perder al buen amo. Y él prometió, el amo le hizo prometer\n",
      "que salvaría el Tesoro. Pero el amo se lo llevará a Él, directamente a la\n",
      "Mano Negra, si va por este camino. Entonces Sméagol piensa en otro\n",
      "camino, de mucho tiempo atrás. Buen amo. Sméagol muy bueno, siempre\n",
      "ayuda.\n",
      "Sam arrugó el ceño. Si hubiera podido, habría atravesado a Gollum con\n",
      "los ojos. Tenía muchas dudas. En apariencia Gollum estaba sinceramente\n",
      "afligido y deseaba ayudar a Frodo. Pero a Sam, recordando la discusión que\n",
      "había escuchado a hurtadillas, le costaba creer que el Sméagol largamente\n",
      "\n",
      "—¿Cómo descifras entonces el acertijo? —pr eguntó Gimli.\n",
      "Aragorn no respondió en seguida; caminó de vuelta hasta el sitio del\n",
      "campamento y examinó un rato el equipaje.\n",
      "—Faltan dos bultos —dijo— y puedo asegurar que uno pertenecía a\n",
      "Sam: era bastante grande y pesado. Esta es entonces la respuesta: Frodo se\n",
      "ha ido en una barca y su sirviente ha ido con él. Frodo pudo haber vuelto\n",
      "mientras todos  estábamos buscándolo. Me encontré con Sam subiendo la\n",
      "pendiente y le dije que me siguiera; pero es evidente que no lo hizo. Adivinó\n",
      "las intenciones del amo y regresó antes que Frodo partiera. ¡No le resultó\n",
      "nada fácil dejar atrás a Sam!\n",
      "—¿Pero por qué tenía que dejarnos a nosotros y sin decir una palabra?\n",
      "—dijo Gimli—. ¡Extraña ocurrencia!\n",
      "—Y brava ocurrencia —dijo Aragorn—. Sam tenía razón, pienso. Frodo\n",
      "no quería llevar a ningún amigo a la muerte en Mordor. Pero sabía que él no\n",
      "podía eludir la tarea. Algo le ocurrió después de dejarnos que acabó con\n",
      "todos  sus temores y dudas.\n",
      "—Quizá lo sorprendieron unos orcos cazadores y huyó —di jo Legolas.\n",
      "—Huyó, ciertamente —di jo Aragorn—, pe ro no creo que de los orcos.\n",
      "Qué había provoc ado según él la repentina resolución y la huida de\n",
      "Frodo, Aragorn no lo dijo. Las últimas palabras de Boromir las guardó en\n",
      "secreto mucho tiempo.\n",
      "—Bueno, al menos ahora algo es claro —dijo Legolas—. Frodo ya no\n",
      "está de este lado del río: sólo él puede haber llevado la barca. Y Sam lo\n",
      "acompaña: sólo él ha podi do llevarse el bulto.\n",
      "—La alternativa entonces —dijo Gimli— es tomar la barca que queda y\n",
      "seguir a Frodo, o perseguir a los orcos a pie. En cualquier caso hay pocas\n",
      "esperanzas. Hemos perdido ya horas preciosas.\n",
      "—¡Dejadme pensar! —dijo Aragorn—. ¡Ojalá pueda elegir bien y\n",
      "cambiar la suerte nefasta de este desgraciado día! —Se quedó callado un\n",
      "momento.— Seguiré a los orcos —dijo al fin—. Yo hubiera guiado a Frodo\n",
      "a Mordor acompañándolo hasta el fin; pero para buscarlo ahora en las\n",
      "tierras salvajes tendría que abandonar los prisioneros a los tormentos y a la\n",
      "muerte. Mi corazón habla al fin con claridad: el destino del Portador ya no\n",
      "Pregunta: ¿Puedes comparar y contrastar las personalidades de Frodo y Sam?\n",
      "Respuesta: \n",
      "\u001b[0m\n",
      "\n",
      "\u001b[1m> Finished chain.\u001b[0m\n",
      "\n",
      "\u001b[1m> Finished chain.\u001b[0m\n",
      "\n",
      "\u001b[1m> Finished chain.\u001b[0m\n"
     ]
    },
    {
     "data": {
      "text/plain": [
       "'Sí, puedo comparar y contrastar las personalidades de Frodo y Sam.\\n\\nFrodo es valiente y determinado, pero también muestra signos de debilidad y duda. A lo largo de la historia, se enfrenta a numerosos desafíos y tentaciones, pero sigue adelante con su misión de destruir el Anillo. Frodo es consciente de los peligros que enfrenta y se preocupa por la seguridad de sus amigos. A veces, se siente abrumado por la carga del Anillo y duda de su capacidad para completar la tarea.\\n\\nPor otro lado, Sam es leal y valiente. Aunque es un personaje secundario, desempeña un papel crucial en la historia. Sam está dispuesto a hacer cualquier cosa por Frodo y lo acompaña en su viaje a pesar de los peligros que enfrenta. A diferencia de Frodo, Sam no muestra dudas o debilidades significativas. Es un personaje más optimista y siempre está dispuesto a ayudar y apoyar a Frodo.\\n\\nEn resumen, Frodo es más complejo y muestra una gama más amplia de emociones y dudas, mientras que Sam es más leal y optimista. Ambos personajes son valientes y están dispuestos a sacrificarse por el bien de la misión, pero tienen diferentes formas de enfrentar los desafíos.'"
      ]
     },
     "execution_count": 11,
     "metadata": {},
     "output_type": "execute_result"
    }
   ],
   "source": [
    "qa.run(\"¿Puedes comparar y contrastar las personalidades de Frodo y Sam?\")"
   ]
  },
  {
   "cell_type": "code",
   "execution_count": 12,
   "metadata": {},
   "outputs": [
    {
     "name": "stdout",
     "output_type": "stream",
     "text": [
      "\n",
      "\n",
      "\u001b[1m> Entering new RetrievalQA chain...\u001b[0m\n",
      "\n",
      "\n",
      "\u001b[1m> Entering new StuffDocumentsChain chain...\u001b[0m\n",
      "\n",
      "\n",
      "\u001b[1m> Entering new LLMChain chain...\u001b[0m\n",
      "Prompt after formatting:\n",
      "\u001b[32;1m\u001b[1;3mResponda a la pregunta basada en el siguiente contexto.\n",
      "Si no puedes responder a la pregunta, usa la siguiente respuesta \"No lo sé disculpa, puedes buscar la información en internet.\"\n",
      "\n",
      "Contexto: \n",
      "Las Dos Torres\n",
      "Segunda parte de\n",
      "El Señor de los Anillos\n",
      "\n",
      "—¡El Anillo! —exclamó Frodo—. ¿Me ha dejado el Anillo? Me\n",
      "pregunto por  qué. Bueno, qu izá me sirva de algo.\n",
      "—Sí y no —dijo Gandalf—. En tu lugar, yo no lo usaría. Pero guárdalo\n",
      "en secreto ¡y en sitio seguro! Bien, me voy a la cama.\n",
      "Como amo de Bolsón Cerrado, Frodo sintió que era su penoso deber\n",
      "despedir a los huéspedes. Rumores sobre extraños acontecimientos se habían\n",
      "diseminado por el campo. Frodo nada dijo, pero sin duda todo se aclararía\n",
      "por la mañana . Alrededor de medianoche comenzaron a llegar los carruajes\n",
      "de la gente importante y así fueron desapareciendo, uno a uno, cargados con\n",
      "hobbits hartos pero insatisfechos. Al fin se llamó a los jardineros, que\n",
      "trasladaron en carretillas a quienes habían quedado rezagados.\n",
      "La noche pasó lentamente. Salió el sol. Los hobbits se levantaron\n",
      "bastante tarde y la mañana prosiguió. Se solicitó el concurso de gente, que\n",
      "recibió orden de despejar los pabellones y quitar mesas, sillas, cucharas,\n",
      "cuchillos, botellas, platos, linternas, macetas de arbustos en flor, migajas,\n",
      "papeles, carteras, pañuelos y guantes olvidados, y alimentos no consumidos,\n",
      "que eran muy pocos. Luego llegó una serie de personas no solicitadas, los\n",
      "Bolsón, Boffin, Bolger, Tuk y otros huéspedes que vivían o andaban cerca.\n",
      "Hacia el mediodía, cuando hasta los más comilones ya estaban de regreso,\n",
      "había en Bolsón Cerrado una gran multitud, no invitada, pero no inesperada.\n",
      "Frodo los esperaba en la escalera, sonriendo, aunque con aire fatigado y\n",
      "preocupado. Saludó a todos , pero no les pudo dar más explicaciones que en\n",
      "la víspera. Respondía a todas las preguntas del mismo modo:\n",
      "—El señor Bilbo B olsón se ha ido; creo que para siempre.\n",
      "Invitó a algunos de los visitantes a entrar en la casa, pues Bilbo había\n",
      "dejado «m ensajes» para ellos.\n",
      "Dentro del vestíbulo había apilada una gran cantidad de paquetes, bultos\n",
      "y mueblecitos. Cada uno de ellos tenía una etiqueta. Había varias de este\n",
      "tipo:\n",
      "Para Adelardo Tuk, de veras para él, estaba escrito sobre una sombrilla.\n",
      "Adelardo se había llevado m uchos paquetes sin etiqueta.\n",
      "\n",
      "—Este es el Dueño de los Anillos, el Anillo Único que los gobierna.\n",
      "Este es el Anillo Único que el Señor Oscuro perdió en tiempos remotos,\n",
      "junto con parte de su pode r. Lo desea terriblemente, pero es necesario que no\n",
      "lo consiga.\n",
      "Frodo se sentó en silencio, inmóvil: el miedo parecía extender una mano\n",
      "enorme, como una vasta nube oscura que se levantaba en oriente y que ya iba\n",
      "a devorarlo.\n",
      "—¡Este anillo! — farfulló —. ¿ Cómo rayos vino a mí?\n",
      "—¡Ah! —dijo Gandalf—. Es una historia muy larga. Sólo los maestros de la\n",
      "tradición la recuerdan, pues comienza en los Años Negros. Si tuviera que\n",
      "contártelo todo, nos quedaríamos aquí sentados hasta que acabe el invierno y\n",
      "empiece la primavera.\n",
      "»Ayer te hablé de Sauron el Grande, el Señor Oscuro. Los rumores que\n",
      "has oído son ciertos. En efecto, ha aparecido nuevamente y luego de\n",
      "abandonar sus dominios en el Bosque Negro, ha vuelto a la antigua fortaleza\n",
      "en la Torre Oscura de Mordor. Hasta vosotros, los hobbits, habéis oído el\n",
      "nombre, como una sombra que merodea en las viejas historias. Siempre\n",
      "después de una derrota y una tregua, la Sombra toma una nueva forma y crece\n",
      "otra vez.\n",
      "—Espero que no suceda en mi época —di jo Frodo.\n",
      "—También yo lo espero —dijo Gandalf —, lo mismo que todos  los que\n",
      "viven en este tiempo. Pero no depende de nosotros. Todo lo que pode mos\n",
      "decidir es qué haremos con el tiempo que nos dieron. Y ya, Frodo, nuestro\n",
      "tiempo ha comenzado a oscurecerse. El enemigo se fortalece rápidamente y\n",
      "hace planes todavía no maduros, pero que están madurando. Tenemos mucho\n",
      "que hacer. Tendremos mucho que hacer aun cuando no mediara ese riesgo\n",
      "espantoso.\n",
      "»Al enemigo todavía le falta algo que le dé pode r y conocimientos\n",
      "suficientes para vencer toda resistencia, derribar las últimas defensas y\n",
      "cubrir todas las tierras con una segunda oscuridad: la posesión del Anillo\n",
      "Único.\n",
      "\n",
      "Tres Anillos para los Reyes Elfos bajo el cielo.\n",
      "Siete para los Señores Enanos  en pal acios de piedra...\n",
      "Nueve para los Hombres Mortales conde nados  a morir.\n",
      "Uno par a el Señor Oscuro, sobre el trono os curo\n",
      "en la Tierra de Mordor donde  se extienden las Som bras.\n",
      "Un Anillo par a gobe rnarlos a todos . Un Anillo par a encontrarlos,\n",
      "un Anillo par a atraerlos a todos  y atarlos en las tinieblas\n",
      "en la Tierra de Mordor donde  se extienden las Som bras.\n",
      "Pregunta: ¿Qué simboliza el anillo?\n",
      "Respuesta: \n",
      "\u001b[0m\n",
      "\n",
      "\u001b[1m> Finished chain.\u001b[0m\n",
      "\n",
      "\u001b[1m> Finished chain.\u001b[0m\n",
      "\n",
      "\u001b[1m> Finished chain.\u001b[0m\n"
     ]
    },
    {
     "data": {
      "text/plain": [
       "'El anillo simboliza el poder y el control que busca el Señor Oscuro, así como la amenaza que representa para todos.'"
      ]
     },
     "execution_count": 12,
     "metadata": {},
     "output_type": "execute_result"
    }
   ],
   "source": [
    "qa.run(\"¿Qué simboliza el anillo?\")"
   ]
  },
  {
   "cell_type": "markdown",
   "metadata": {},
   "source": [
    "## Preguntando a OpenAI"
   ]
  },
  {
   "cell_type": "code",
   "execution_count": 13,
   "metadata": {},
   "outputs": [
    {
     "data": {
      "text/plain": [
       "'El anillo puede simbolizar diferentes cosas dependiendo del contexto y la cultura. Algunos de los significados más comunes asociados con los anillos son:\\n\\n- Compromiso y matrimonio: En muchas culturas, el anillo de compromiso y la alianza matrimonial simbolizan el compromiso y la unión entre dos personas.\\n\\n- Poder y autoridad: En algunas culturas, los anillos pueden ser símbolos de poder y autoridad, como los anillos de los reyes y reinas.\\n\\n- Amistad y lealtad: Los anillos también pueden ser símbolos de amistad y lealtad, como los anillos de la amistad que se intercambian entre amigos cercanos.\\n\\n- Herencia y legado: Los anillos familiares o de herencia pueden simbolizar la conexión con generaciones pasadas y el legado familiar.\\n\\n- Estatus social: En algunas culturas, los anillos pueden ser símbolos de estatus social, como los anillos de graduación o los anillos de pertenencia a una organización exclusiva.\\n\\nEstos son solo algunos ejemplos de los significados simbólicos que se le pueden atribuir a los anillos, pero es importante tener en cuenta que el significado puede variar según la cultura y las creencias individuales.'"
      ]
     },
     "execution_count": 13,
     "metadata": {},
     "output_type": "execute_result"
    }
   ],
   "source": [
    "llm = ChatOpenAI(\n",
    "    model_name = 'gpt-3.5-turbo',\n",
    "    temperature = 0.0\n",
    ")\n",
    "\n",
    "llm.predict(\"¿Qué simboliza el anillo?\")"
   ]
  }
 ],
 "metadata": {
  "kernelspec": {
   "display_name": "Python 3",
   "language": "python",
   "name": "python3"
  },
  "language_info": {
   "codemirror_mode": {
    "name": "ipython",
    "version": 3
   },
   "file_extension": ".py",
   "mimetype": "text/x-python",
   "name": "python",
   "nbconvert_exporter": "python",
   "pygments_lexer": "ipython3",
   "version": "3.10.13"
  }
 },
 "nbformat": 4,
 "nbformat_minor": 2
}
